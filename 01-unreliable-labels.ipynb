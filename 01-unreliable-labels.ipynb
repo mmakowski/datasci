{
 "cells": [
  {
   "cell_type": "markdown",
   "metadata": {},
   "source": [
    "We would like to calculate the confidence interval for precision of a model in the presence of unreliable labels. Consider the following data, where the observed counts of TPs and FPs are based on unreliable labels."
   ]
  },
  {
   "cell_type": "code",
   "execution_count": 1,
   "metadata": {
    "collapsed": true
   },
   "outputs": [],
   "source": [
    "tp_observed = 5285\n",
    "fp_observed = 3184"
   ]
  },
  {
   "cell_type": "markdown",
   "metadata": {},
   "source": [
    "What does the distribution of precision look like if we do not account for mislabelling and assume for the moment that the labels are perfect? [Goutte and Gaussier](https://pdfs.semanticscholar.org/e399/9a46cb8aaf71131a77670da5c5c113aad01d.pdf) showed that precision follows the Beta distribution with the counts of TPs and FPs as parameters, adjusted for prior. We will use uniform prior, $Beta(1,1)$."
   ]
  },
  {
   "cell_type": "code",
   "execution_count": 3,
   "metadata": {},
   "outputs": [],
   "source": [
    "import pymc3 as pm\n",
    "\n",
    "with pm.Model() as model:\n",
    "    precision_reliable = pm.Beta('precision_reliable', tp_observed + 1, fp_observed + 1)"
   ]
  },
  {
   "cell_type": "markdown",
   "metadata": {},
   "source": [
    "The distribution and 95% confidence interval can be plotted by sampling this variable."
   ]
  },
  {
   "cell_type": "code",
   "execution_count": 7,
   "metadata": {},
   "outputs": [
    {
     "data": {
      "image/png": "[encoded data removed]",
      "text/plain": [
       "<matplotlib.figure.Figure at 0x7f647889e0b8>"
      ]
     },
     "metadata": {},
     "output_type": "display_data"
    }
   ],
   "source": [
    "%matplotlib inline\n",
    "from IPython.core.pylabtools import figsize\n",
    "import matplotlib.pyplot as plt\n",
    "import numpy as np\n",
    "\n",
    "def plot_dist(variable, confidence_level_percent=95):\n",
    "    figsize(16, 4)\n",
    "    samples = variable.random(size=100000)\n",
    "    _, ax = plt.subplots()\n",
    "    plt.hist(samples, bins=100, normed=True, histtype=\"stepfilled\")\n",
    "    plt.title(\"Posterior distribution for %s\" % variable.name)\n",
    "    plt.xlim(0, 1)\n",
    "    conf_interval_min = np.percentile(samples, (100-confidence_level_percent) / 2),\n",
    "    conf_interval_max = np.percentile(samples, confidence_level_percent  +  (100-confidence_level_percent) / 2)\n",
    "    ax.axvline(x=conf_interval_min, ymin=0, ymax=1, color='r', linewidth=1)\n",
    "    ax.axvline(x=conf_interval_max, ymin=0, ymax=1, color='r', linewidth=1)\n",
    "    \n",
    "    \n",
    "plot_dist(precision_reliable)"
   ]
  },
  {
   "cell_type": "markdown",
   "metadata": {},
   "source": [
    "We then reviewed randomly selected observed TPs and FPs, 100 from each group, and counted how many of them had incorrect labels."
   ]
  },
  {
   "cell_type": "code",
   "execution_count": 8,
   "metadata": {
    "collapsed": true
   },
   "outputs": [],
   "source": [
    "reviewed_tp = 100\n",
    "mislabelled_tp = 7\n",
    "reviewed_fp = 100\n",
    "mislabelled_fp = 31"
   ]
  },
  {
   "cell_type": "markdown",
   "metadata": {},
   "source": [
    "How can we account for the mislabelling when calculating the posterior of precision? Let us try to model the mislabelling rates using a Beta distribution, parameterised by the available evidence of mislabelling."
   ]
  },
  {
   "cell_type": "code",
   "execution_count": 9,
   "metadata": {},
   "outputs": [
    {
     "data": {
      "image/png": "[encoded data removed]",
      "text/plain": [
       "<matplotlib.figure.Figure at 0x7f64774ff160>"
      ]
     },
     "metadata": {},
     "output_type": "display_data"
    }
   ],
   "source": [
    "with pm.Model() as model:\n",
    "    mislabel_rate_tp = pm.Beta('mislabel_rate_tp', mislabelled_tp + 1, reviewed_tp - mislabelled_tp + 1)\n",
    "    mislabel_rate_fp = pm.Beta('mislabel_rate_fp', mislabelled_fp + 1, reviewed_fp - mislabelled_fp + 1)\n",
    "    tp_actual = tp_observed * (1-mislabel_rate_tp) + fp_observed * mislabel_rate_fp\n",
    "    fp_actual = fp_observed * (1-mislabel_rate_fp) + tp_observed * mislabel_rate_tp\n",
    "    precision_unreliable = pm.Beta('precision_unreliable', tp_actual + 1, fp_actual + 1)\n",
    "\n",
    "plot_dist(precision_unreliable)"
   ]
  },
  {
   "cell_type": "code",
   "execution_count": null,
   "metadata": {
    "collapsed": true
   },
   "outputs": [],
   "source": []
  }
 ],
 "metadata": {
  "kernelspec": {
   "display_name": "Python 3",
   "language": "python",
   "name": "python3"
  },
  "language_info": {
   "codemirror_mode": {
    "name": "ipython",
    "version": 3
   },
   "file_extension": ".py",
   "mimetype": "text/x-python",
   "name": "python",
   "nbconvert_exporter": "python",
   "pygments_lexer": "ipython3",
   "version": "3.6.3"
  }
 },
 "nbformat": 4,
 "nbformat_minor": 2
}
